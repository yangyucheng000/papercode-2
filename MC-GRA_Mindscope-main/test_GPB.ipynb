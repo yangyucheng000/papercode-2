{
 "cells": [
  {
   "cell_type": "code",
   "execution_count": 3,
   "id": "4ce67ce2-0bbd-4aa4-826b-81132c405c4d",
   "metadata": {},
   "outputs": [],
   "source": [
    "import math\n",
    "from copy import deepcopy\n",
    "import mindspore\n",
    "import numpy as np\n",
    "from mindspore import context\n",
    "from mindspore import ops\n",
    "from mindspore import nn\n",
    "from mindspore import Parameter\n",
    "from mindspore import Tensor\n",
    "from mindspore.experimental import optim\n",
    "import random\n",
    "from tqdm import trange "
   ]
  },
  {
   "cell_type": "code",
   "execution_count": 5,
   "id": "0c7ea311-dcec-408e-8cf7-82f7455cd007",
   "metadata": {},
   "outputs": [
    {
     "data": {
      "text/plain": [
       "Tensor(shape=[], dtype=Float32, value= -0.507373)"
      ]
     },
     "execution_count": 5,
     "metadata": {},
     "output_type": "execute_result"
    }
   ],
   "source": [
    "output = ops.rand((2708, 7))\n",
    "labels = ops.randint(0, 7, (2708,))\n",
    "\n",
    "\n",
    "idx_train = ops.randint(0, 2708, (1000, ))\n",
    "\n",
    "ops.nll_loss(output[idx_train], labels[idx_train])"
   ]
  }
 ],
 "metadata": {
  "kernelspec": {
   "display_name": "Python 3 (ipykernel)",
   "language": "python",
   "name": "python3"
  },
  "language_info": {
   "codemirror_mode": {
    "name": "ipython",
    "version": 3
   },
   "file_extension": ".py",
   "mimetype": "text/x-python",
   "name": "python",
   "nbconvert_exporter": "python",
   "pygments_lexer": "ipython3",
   "version": "3.8.10"
  }
 },
 "nbformat": 4,
 "nbformat_minor": 5
}
