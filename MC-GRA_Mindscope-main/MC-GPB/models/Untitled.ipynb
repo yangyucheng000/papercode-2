{
 "cells": [
  {
   "cell_type": "code",
   "execution_count": 1,
   "id": "7ead9522-ee7e-4798-83bc-bc298e6f663e",
   "metadata": {},
   "outputs": [
    {
     "name": "stderr",
     "output_type": "stream",
     "text": [
      "[WARNING] ME(18512:139861639210176,MainProcess):2024-03-14-20:19:42.871.835 [mindspore/run_check/_check_version.py:102] MindSpore version 2.2.11 and cuda version 11.3.58 does not match, CUDA version [['10.1', '11.1', '11.6']] are supported by MindSpore officially. Please refer to the installation guide for version matching information: https://www.mindspore.cn/install.\n",
      "[ERROR] CORE(18512,7f341352a4c0,python):2024-03-14-20:19:49.083.087 [mindspore/core/utils/file_utils.cc:253] GetRealPath] Get realpath failed, path[/tmp/ipykernel_18512/3323798325.py]\n"
     ]
    },
    {
     "data": {
      "text/plain": [
       "Tensor(shape=[], dtype=Float32, value= 0.0182187)"
      ]
     },
     "execution_count": 1,
     "metadata": {},
     "output_type": "execute_result"
    }
   ],
   "source": [
    "import mindspore as ms\n",
    "import numpy as np\n",
    "from mindspore import context\n",
    "from mindspore import ops\n",
    "from mindspore import nn\n",
    "from mindspore import Parameter\n",
    "from mindspore import Tensor\n",
    "from mindspore.experimental import optim\n",
    "from mindspore import context\n",
    "\n",
    "context.set_context(mode=context.GRAPH_MODE, device_target=\"CPU\")\n",
    "\n",
    "class MutualInformation(nn.Cell):\n",
    "\n",
    "    def __init__(self,sigma=0.4, num_bins=256, normalize=True):\n",
    "        super(MutualInformation, self).__init__()\n",
    "\n",
    "        self.sigma = 2*sigma**2\n",
    "        self.num_bins = num_bins\n",
    "        self.normalize = normalize\n",
    "        self.epsilon = 1e-10\n",
    "\n",
    "        self.bins = ops.linspace(\n",
    "            0, num_bins, num_bins).float()\n",
    "\n",
    "    def marginalPdf(self, values):\n",
    "        \n",
    "        residuals = values - ops.unsqueeze(ops.unsqueeze(self.bins, 0), 0)\n",
    "        kernel_values = ops.exp(-0.5*(residuals / self.sigma).pow(2))\n",
    "\n",
    "        pdf = ops.mean(kernel_values, axis=1)\n",
    "        normalization = ops.unsqueeze(ops.sum(pdf, dim=1), 1) + self.epsilon\n",
    "        pdf = pdf / normalization\n",
    "\n",
    "        return pdf, kernel_values\n",
    "\n",
    "    def jointPdf(self, kernel_values1, kernel_values2):\n",
    "        \n",
    "        joint_kernel_values = ops.matmul(\n",
    "            ops.transpose(kernel_values1, (0, 2, 1)), kernel_values2)\n",
    "        normalization = ops.sum(joint_kernel_values, dim=(\n",
    "            1, 2)).view(-1, 1, 1) + self.epsilon\n",
    "        pdf = joint_kernel_values / normalization\n",
    "\n",
    "        return pdf\n",
    "\n",
    "    def getMutualInformation(self, input1, input2):\n",
    "        pdf_x1, kernel_values1 = self.marginalPdf(input1)\n",
    "        pdf_x2, kernel_values2 = self.marginalPdf(input2)\n",
    "    \n",
    "        pdf_x1x2 = self.jointPdf(kernel_values1, kernel_values2)\n",
    "\n",
    "        H_x1 = -ops.sum(pdf_x1*ops.log2(pdf_x1 + self.epsilon), dim=1)\n",
    "        H_x2 = -ops.sum(pdf_x2*ops.log2(pdf_x2 + self.epsilon), dim=1)\n",
    "        H_x1x2 = -ops.sum(pdf_x1x2*ops.log2(pdf_x1x2 +\n",
    "                            self.epsilon), dim=(1, 2))\n",
    "\n",
    "        mutual_information = H_x1 + H_x2 - H_x1x2\n",
    "\n",
    "        if self.normalize:\n",
    "            mutual_information = 2*mutual_information/(H_x1+H_x2)\n",
    "\n",
    "        return mutual_information\n",
    "\n",
    "    def construct(self, input1, input2):\n",
    "        return self.getMutualInformation(input1, input2)\n",
    "\n",
    "\n",
    "def KDE(A, Z):\n",
    "    A_Z = ops.unsqueeze(Z@Z.T, 0)\n",
    "    A_A = ops.unsqueeze(A, 0)\n",
    "\n",
    "    input1 = ops.cat([A_A, A_Z])\n",
    "    input2 = ops.cat([A_Z, A_Z])\n",
    "    \n",
    "    MI = MutualInformation(sigma=0.4, num_bins=A_Z.shape[0], normalize=True)\n",
    "\n",
    "    return MI(input1, input2)[0]\n",
    "\n",
    "\n",
    "\n",
    "KDE(\n",
    "    ops.rand((2708, 2708)),\n",
    "    ops.rand((2708, 16)),\n",
    ")"
   ]
  },
  {
   "cell_type": "code",
   "execution_count": null,
   "id": "b71580df-18eb-4b56-bc0d-c8230d9e6c9c",
   "metadata": {},
   "outputs": [],
   "source": []
  }
 ],
 "metadata": {
  "kernelspec": {
   "display_name": "Python 3 (ipykernel)",
   "language": "python",
   "name": "python3"
  },
  "language_info": {
   "codemirror_mode": {
    "name": "ipython",
    "version": 3
   },
   "file_extension": ".py",
   "mimetype": "text/x-python",
   "name": "python",
   "nbconvert_exporter": "python",
   "pygments_lexer": "ipython3",
   "version": "3.8.10"
  }
 },
 "nbformat": 4,
 "nbformat_minor": 5
}
