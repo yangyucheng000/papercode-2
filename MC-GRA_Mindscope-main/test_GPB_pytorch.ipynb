{
 "cells": [
  {
   "cell_type": "code",
   "execution_count": 1,
   "id": "0a422d6a-dd1c-4fdc-b39e-ea0a0014b32f",
   "metadata": {},
   "outputs": [],
   "source": [
    "import os\n",
    "os.chdir(\"/root/MC-GRA_test/MC-GPB/\")"
   ]
  },
  {
   "cell_type": "code",
   "execution_count": 2,
   "id": "9c0e8e4b-fdf1-49e2-b6b7-07f2643e2976",
   "metadata": {},
   "outputs": [
    {
     "name": "stdout",
     "output_type": "stream",
     "text": [
      "Loading cora dataset...\n",
      "train with MI constrain\n",
      "training...:   0%|                                      | 0/200 [00:00<?, ?it/s]"
     ]
    }
   ],
   "source": [
    "!python main.py --dataset=cora --aug_pe=0.18 --layer_MI 1.3 1.3 1.7 --layer_inter_MI 1.4 1.5 "
   ]
  }
 ],
 "metadata": {
  "kernelspec": {
   "display_name": "Python 3 (ipykernel)",
   "language": "python",
   "name": "python3"
  },
  "language_info": {
   "codemirror_mode": {
    "name": "ipython",
    "version": 3
   },
   "file_extension": ".py",
   "mimetype": "text/x-python",
   "name": "python",
   "nbconvert_exporter": "python",
   "pygments_lexer": "ipython3",
   "version": "3.8.10"
  }
 },
 "nbformat": 4,
 "nbformat_minor": 5
}
