{
 "cells": [
  {
   "cell_type": "code",
   "execution_count": 1,
   "id": "e11229d3-de0d-4910-8010-100218330f98",
   "metadata": {},
   "outputs": [],
   "source": [
    "import os\n",
    "os.chdir(\"/root/MC-GRA_test/MC-GRA/\")"
   ]
  },
  {
   "cell_type": "code",
   "execution_count": 2,
   "id": "6c30b14c-4025-4e53-8e1d-b0041afad64a",
   "metadata": {},
   "outputs": [
    {
     "name": "stderr",
     "output_type": "stream",
     "text": [
      "[WARNING] ME(6286:140199097742528,MainProcess):2024-03-13-18:27:33.117.646 [mindspore/run_check/_check_version.py:102] MindSpore version 2.2.11 and cuda version 11.3.58 does not match, CUDA version [['10.1', '11.1', '11.6']] are supported by MindSpore officially. Please refer to the installation guide for version matching information: https://www.mindspore.cn/install.\n"
     ]
    }
   ],
   "source": [
    "import argparse\n",
    "import mindspore\n",
    "import numpy as np\n",
    "import random\n",
    "from mind_dataset import Dataset\n",
    "from mindspore import context\n",
    "from mindspore import ops\n",
    "from mindspore import Tensor\n",
    "from models.mind_gcn import GCN, embedding_GCN"
   ]
  },
  {
   "cell_type": "code",
   "execution_count": 3,
   "id": "b778045f-2c45-4b06-b2c3-7a6792ce89ad",
   "metadata": {},
   "outputs": [],
   "source": [
    "def preprocess(adj, features, labels, preprocess_adj=False, preprocess_feature=False, onehot_feature=False, sparse=False, device='cpu'):\n",
    "    if preprocess_adj:\n",
    "        adj_norm = normalize_adj(adj)\n",
    "\n",
    "    if preprocess_feature:\n",
    "        features = normalize_feature(features)\n",
    "\n",
    "    labels = Tensor(labels)\n",
    "    if sparse:\n",
    "        adj = sparse_mx_to_torch_sparse_tensor(adj)\n",
    "        features = sparse_mx_to_torch_sparse_tensor(features)\n",
    "    else:\n",
    "        if onehot_feature == True:\n",
    "            features = ops.eye(features.shape[0])\n",
    "        else:\n",
    "            features = Tensor(np.array(features.todense()))\n",
    "        adj = Tensor(adj.todense())\n",
    "\n",
    "    return adj, features, labels\n"
   ]
  },
  {
   "cell_type": "code",
   "execution_count": 4,
   "id": "a33f8dd6-af3c-4b7b-8387-836af4c0034d",
   "metadata": {},
   "outputs": [],
   "source": [
    "def dot_product_decode(Z):\n",
    "    if args.dataset == 'cora' or args.dataset == 'citeseer' or args.dataset == 'AIDS':\n",
    "        Z = ops.matmul(Z, Z.t())\n",
    "        adj = ops.relu(Z-ops.eye(Z.shape[0]))\n",
    "        adj = ops.sigmoid(adj)\n",
    "\n",
    "    if args.dataset == 'brazil' or args.dataset == 'usair' or args.dataset == 'polblogs':\n",
    "        Z = mindquantum.utils.normalize(Z, p=2, dim=1)\n",
    "        Z = ops.matmul(Z, Z.t())\n",
    "        adj = ops.relu(Z-torch.eye(Z.shape[0]))\n",
    "\n",
    "    return adj"
   ]
  },
  {
   "cell_type": "code",
   "execution_count": 5,
   "id": "e1da2c32-abc8-4f71-8d9f-963956528732",
   "metadata": {},
   "outputs": [],
   "source": [
    "def transfer_state_dict(pretrained_dict, model_dict):\n",
    "    state_dict = {}\n",
    "    for k, v in pretrained_dict:\n",
    "        if k in model_dict.keys():\n",
    "            state_dict[k] = v\n",
    "    return state_dict\n"
   ]
  },
  {
   "cell_type": "code",
   "execution_count": 6,
   "id": "26fce31c-fe2a-42d0-87e5-a2246dfe2528",
   "metadata": {},
   "outputs": [],
   "source": [
    "parser = argparse.ArgumentParser()\n",
    "parser.add_argument('--seed', type=int, default=15, help='Random seed.')\n",
    "parser.add_argument('--epochs', type=int, default=100,\n",
    "                    help='Number of epochs to optimize in GraphMI attack.')\n",
    "parser.add_argument('--lr', type=float, default=-2.5,\n",
    "                    help='Initial learning rate.')\n",
    "parser.add_argument('--weight_decay', type=float, default=5e-4,\n",
    "                    help='Weight decay (L2 loss on parameters).')\n",
    "parser.add_argument('--hidden', type=int, default=16,\n",
    "                    help='Number of hidden units.')\n",
    "parser.add_argument('--dropout', type=float, default=0.5,\n",
    "                    help='Dropout rate (1 - keep probability).')\n",
    "parser.add_argument('--nlayers', type=int, default=2,\n",
    "                    help=\"number of layers in GCN.\")\n",
    "parser.add_argument('--arch', type=str,\n",
    "                    choices=[\"gcn\", \"gat\", \"sage\"], default='gcn')\n",
    "parser.add_argument('--dataset', type=str, default='cora',\n",
    "                    choices=['cora', 'cora_ml', 'citeseer', 'polblogs', 'pubmed', 'AIDS', 'usair', 'brazil', 'chameleon', 'ENZYME', 'squirrel', 'ogb_arxiv'], help='dataset')\n",
    "# citseer pubmed\n",
    "parser.add_argument('--density', type=float,\n",
    "                    default=10000000.0, help='Edge density estimation')\n",
    "parser.add_argument('--model', type=str, default='PGD',\n",
    "                    choices=['PGD', 'min-max'], help='model variant')\n",
    "parser.add_argument('--nlabel', type=float, default=1.0)\n",
    "parser.add_argument('--iter', type=int, help=\"iterate times\", default=1)\n",
    "parser.add_argument('--max_eval', type=int,\n",
    "                    help=\"max evaluation times for searching\", default=100)\n",
    "parser.add_argument('--log_name', type=str,\n",
    "                    help=\"file name to save the result\", default=\"result.txt\")\n",
    "parser.add_argument(\"--mode\", type=str, default=\"evaluate\", choices=[\"evaluate\", \"search\", \"baseline\", \"ensemble\", \"aux\",\n",
    "                                                                     \"draw_violin\", \"notrain_test\", \"dev\", \"ensemble_search\", \"gaussian\", \"gcn_attack\"])\n",
    "parser.add_argument(\"--measure\", type=str, default=\"MSELoss\",\n",
    "                    choices=[\"HSIC\", \"MSELoss\", \"KL\", \"KDE\", \"CKA\", \"DP\"])\n",
    "parser.add_argument(\"--measure2\", type=str, default=\"HSIC\",\n",
    "                    choices=[\"HSIC\", \"MSELoss\", \"KL\", \"KDE\", \"CKA\", \"DP\"])\n",
    "parser.add_argument(\"--nofeature\", action='store_true')\n",
    "\n",
    "parser.add_argument('--weight_aux', type=float, default=0,\n",
    "                    help=\"the weight of auxiliary loss\")\n",
    "parser.add_argument('--weight_sup', type=float, default=0,\n",
    "                    help=\"the weight of supervised loss\")\n",
    "parser.add_argument('--w1', type=float, default=0.1)\n",
    "parser.add_argument('--w2', type=float, default=0.1)\n",
    "parser.add_argument('--w3', type=float, default=0)\n",
    "parser.add_argument('--w4', type=float, default=0)\n",
    "parser.add_argument('--w5', type=float, default=0)\n",
    "parser.add_argument('--w6', type=float, default=6000)\n",
    "parser.add_argument('--w7', type=float, default=100)\n",
    "parser.add_argument('--w8', type=float, default=0)\n",
    "parser.add_argument('--w9', type=float, default=1000)\n",
    "parser.add_argument('--w10', type=float, default=0)\n",
    "parser.add_argument('--eps', type=float, default=0,help=\"eps for adding noise\")\n",
    "parser.add_argument('--useH_A', action='store_true', default=True)\n",
    "parser.add_argument('--useY_A', action='store_true')\n",
    "parser.add_argument('--useY', action='store_true')\n",
    "parser.add_argument('--ensemble', action='store_true')\n",
    "parser.add_argument('--add_noise', action='store_true')\n",
    "parser.add_argument('--defense', action='store_true')\n",
    "args = parser.parse_args(args=[])"
   ]
  },
  {
   "cell_type": "code",
   "execution_count": 9,
   "id": "fe836553-878e-4098-9a2a-7252a24b7944",
   "metadata": {},
   "outputs": [
    {
     "name": "stdout",
     "output_type": "stream",
     "text": [
      "Loading cora dataset...\n",
      "=== training gcn model ===\n",
      "Epoch 0, training loss: 1.92416512966156 , val acc: 0.3084112\n",
      "Epoch 10, training loss: 1.2542532682418823 , val acc: 0.6853582\n",
      "=== picking the best model according to the performance on validation ===\n"
     ]
    },
    {
     "name": "stderr",
     "output_type": "stream",
     "text": [
      "[WARNING] ME(6286:140199097742528,MainProcess):2024-03-13-18:33:41.382.457 [mindspore/train/serialization.py:1378] For 'load_param_into_net', 2 parameters in the 'net' are not loaded, because they are not in the 'parameter_dict', please check whether the network structure is consistent when training and loading checkpoint.\n",
      "[WARNING] ME(6286:140199097742528,MainProcess):2024-03-13-18:33:41.383.897 [mindspore/train/serialization.py:1383] gc1.weight is not loaded.\n",
      "[WARNING] ME(6286:140199097742528,MainProcess):2024-03-13-18:33:41.384.912 [mindspore/train/serialization.py:1383] gc1.bias is not loaded.\n"
     ]
    }
   ],
   "source": [
    "from copy import deepcopy\n",
    "\n",
    "context.set_context(mode=context.GRAPH_MODE, device_target=\"CPU\")\n",
    "\n",
    "np.random.seed(args.seed)\n",
    "random.seed(args.seed)\n",
    "data = Dataset(root='./dataset', name=args.dataset, setting='GCN')\n",
    "adj, features, labels, init_adj = data.adj, data.features, data.labels, data.init_adj\n",
    "\n",
    "\n",
    "\n",
    "idx_train, idx_val, idx_test = data.idx_train, data.idx_val, data.idx_test\n",
    "\n",
    "# choose the target nodes\n",
    "idx_attack = np.array(random.sample(\n",
    "    range(adj.shape[0]), int(adj.shape[0]*args.nlabel)))\n",
    "\n",
    "num_edges = int(0.5 * args.density * adj.sum() /\n",
    "                adj.shape[0]**2 * len(idx_attack)**2)\n",
    "adj, features, labels = preprocess(adj, features, labels, preprocess_adj=False, onehot_feature=False)\n",
    "feature_adj = dot_product_decode(features)\n",
    "if args.nofeature:\n",
    "    feature_adj = ops.eye(*feature_adj.size())\n",
    "init_adj = Tensor(init_adj.todense())\n",
    "if args.arch == \"gcn\":\n",
    "    victim_model = GCN(nfeat=features.shape[1], nclass=labels.max().item() + 1, nhid=16, idx_train=idx_train, nlayer=args.nlayers,\n",
    "                       dropout=0.5, weight_decay=5e-4)\n",
    "    if args.defense:\n",
    "        victim_model.load_state_dict(torch.load(f'./defense/{args.dataset}_{args.arch}_{args.nlayer}.pt', map_location=device))\n",
    "        victim_model = victim_model\n",
    "    else:\n",
    "        victim_model = victim_model\n",
    "        victim_model.fit(features, adj, labels, idx_val)\n",
    "\n",
    "    embedding = embedding_GCN(\n",
    "        nfeat=features.shape[1], nhid=16, nlayer=args.nlayers)\n",
    "    \n",
    "    mindspore.load_param_into_net(embedding, transfer_state_dict(\n",
    "        victim_model.parameters_dict().items(), embedding.parameters_dict()), strict_load=False)\n",
    "    \n",
    "   # embedding.load_state_dict(transfer_state_dict(\n",
    "     #   victim_model.state_dict(), embedding.state_dict()))\n",
    "\n",
    "    embedding.gc = deepcopy(victim_model.gc)"
   ]
  },
  {
   "cell_type": "code",
   "execution_count": null,
   "id": "89f93354-666f-4765-81d3-27f8357d167a",
   "metadata": {},
   "outputs": [],
   "source": [
    "%whos"
   ]
  },
  {
   "cell_type": "code",
   "execution_count": null,
   "id": "df854ad2-ded5-4fe0-aeb1-1f9cb632f3ff",
   "metadata": {},
   "outputs": [],
   "source": [
    "preds = features.max(1)"
   ]
  },
  {
   "cell_type": "code",
   "execution_count": null,
   "id": "cc4029d1-e6d1-40ca-8865-c68d4c11e0e8",
   "metadata": {},
   "outputs": [],
   "source": [
    "features[Tensor(idx_train)]"
   ]
  },
  {
   "cell_type": "code",
   "execution_count": null,
   "id": "d678181a-af87-48c8-a4c5-da0485121c90",
   "metadata": {},
   "outputs": [],
   "source": [
    "print(victim_model.parameters_dict())"
   ]
  },
  {
   "cell_type": "code",
   "execution_count": null,
   "id": "41825fe7-922b-4f2f-a98c-d630b5abb065",
   "metadata": {},
   "outputs": [],
   "source": [
    "params=victim_model.parameters_dict().items()\n",
    "for k, v in params:\n",
    "    print(k)"
   ]
  },
  {
   "cell_type": "code",
   "execution_count": null,
   "id": "5c2df2f9-b5d8-4240-9038-7ca3e0fa0f8f",
   "metadata": {},
   "outputs": [],
   "source": []
  },
  {
   "cell_type": "code",
   "execution_count": null,
   "id": "81b3aa2c-5264-4094-abb2-66087b4c143d",
   "metadata": {},
   "outputs": [],
   "source": []
  },
  {
   "cell_type": "code",
   "execution_count": null,
   "id": "d55336a2-5d79-4d61-af6d-9bbc03b55810",
   "metadata": {},
   "outputs": [],
   "source": []
  }
 ],
 "metadata": {
  "kernelspec": {
   "display_name": "Python 3 (ipykernel)",
   "language": "python",
   "name": "python3"
  },
  "language_info": {
   "codemirror_mode": {
    "name": "ipython",
    "version": 3
   },
   "file_extension": ".py",
   "mimetype": "text/x-python",
   "name": "python",
   "nbconvert_exporter": "python",
   "pygments_lexer": "ipython3",
   "version": "3.8.10"
  }
 },
 "nbformat": 4,
 "nbformat_minor": 5
}
